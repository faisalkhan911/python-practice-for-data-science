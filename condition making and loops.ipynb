{
 "cells": [
  {
   "cell_type": "code",
   "execution_count": null,
   "metadata": {},
   "outputs": [],
   "source": [
    "\"The sum of 4 and 5 is 9\""
   ]
  },
  {
   "cell_type": "code",
   "execution_count": 9,
   "metadata": {},
   "outputs": [
    {
     "name": "stdout",
     "output_type": "stream",
     "text": [
      "The sum of 4 and 5 is 9\n"
     ]
    }
   ],
   "source": [
    "a = 4\n",
    "b = 5\n",
    "## printing concatenated string\n",
    "print(\"The sum of \"+ str(a) + \" and \" + str(b) + \" is \" + str(a+b))"
   ]
  },
  {
   "cell_type": "code",
   "execution_count": 1,
   "metadata": {},
   "outputs": [
    {
     "name": "stdout",
     "output_type": "stream",
     "text": [
      "The sum of 4 and 5 is 9\n"
     ]
    }
   ],
   "source": [
    "a = 4\n",
    "b = 5\n",
    "## printing using .format()\n",
    "print(\"The sum of {} and {} is {}\".format(a,b,a+b))"
   ]
  },
  {
   "cell_type": "code",
   "execution_count": 2,
   "metadata": {},
   "outputs": [
    {
     "name": "stdout",
     "output_type": "stream",
     "text": [
      "The sum of 5 and 4 is 9\n"
     ]
    }
   ],
   "source": [
    "a = 4\n",
    "b = 5\n",
    "\n",
    "print(\"The sum of {} and {} is {}\".format(b,a,a+b))"
   ]
  },
  {
   "cell_type": "code",
   "execution_count": 6,
   "metadata": {},
   "outputs": [
    {
     "name": "stdout",
     "output_type": "stream",
     "text": [
      "The sum of 4 and 5 is 9\n"
     ]
    }
   ],
   "source": [
    "a = 4\n",
    "b = 5\n",
    "\n",
    "print(\"The sum of {x} and {y} is {sum_}\".format(y=b,x=a,sum_= a+b))"
   ]
  },
  {
   "cell_type": "markdown",
   "metadata": {},
   "source": [
    "## Condition Making"
   ]
  },
  {
   "cell_type": "code",
   "execution_count": 10,
   "metadata": {},
   "outputs": [
    {
     "name": "stdout",
     "output_type": "stream",
     "text": [
      "Enter first integer:3\n",
      "Enter second integer:6\n",
      "Addition of 3 and 6 is 9.\n"
     ]
    }
   ],
   "source": [
    "## WAP to read two numbers from user and display addition of the numbers.\n",
    "n1 = int(input(\"Enter first integer:\"))\n",
    "n2 = int(input(\"Enter second integer:\"))\n",
    "#\n",
    "print(\"Addition of {} and {} is {}.\".format(n1,n2,n1+n2))"
   ]
  },
  {
   "cell_type": "code",
   "execution_count": null,
   "metadata": {},
   "outputs": [],
   "source": [
    "## if statement \n",
    "# syntax: if <expression True>:\n",
    "#                 <body of the if >"
   ]
  },
  {
   "cell_type": "code",
   "execution_count": 13,
   "metadata": {},
   "outputs": [
    {
     "name": "stdout",
     "output_type": "stream",
     "text": [
      "outside of the if-body\n"
     ]
    }
   ],
   "source": [
    "### check if an number if positive\n",
    "number = -5\n",
    "\n",
    "if number > 0:\n",
    "    print('Positive')\n",
    "    print('Number')\n",
    "    \n",
    "print('outside of the if-body')"
   ]
  },
  {
   "cell_type": "code",
   "execution_count": null,
   "metadata": {},
   "outputs": [],
   "source": [
    "## if-else statement \n",
    "# syntax: if <expression True>:\n",
    "#                 <body of the if >\n",
    "#          else:\n",
    "#                <body of the else>"
   ]
  },
  {
   "cell_type": "code",
   "execution_count": 15,
   "metadata": {},
   "outputs": [
    {
     "name": "stdout",
     "output_type": "stream",
     "text": [
      "Negative\n",
      "Number\n",
      "outside of the if-body\n"
     ]
    }
   ],
   "source": [
    "### check if an number if positive or negative\n",
    "number = -3\n",
    "\n",
    "if number > 0:\n",
    "    print('Positive')\n",
    "    print('Number')\n",
    "else:\n",
    "    print('Negative')\n",
    "    print('Number')\n",
    "    \n",
    "print('outside of the if-body')"
   ]
  },
  {
   "cell_type": "code",
   "execution_count": null,
   "metadata": {},
   "outputs": [],
   "source": [
    "# ## if-else statement \n",
    "# # syntax: if <expression1 True>:\n",
    "# #                 <body of the if >\n",
    "#           elif <expression2 is True>:\n",
    "#              <body of the elif >\n",
    "#           elif <expression3 is True>:\n",
    "#              <body of the elif >\n",
    "#         ......\n",
    "# #          else:\n",
    "# #                <body of the else>"
   ]
  },
  {
   "cell_type": "code",
   "execution_count": 18,
   "metadata": {},
   "outputs": [
    {
     "name": "stdout",
     "output_type": "stream",
     "text": [
      "Positive\n",
      "Number\n",
      "outside of the if-body\n"
     ]
    }
   ],
   "source": [
    "### check if an number if positive or negative or zero\n",
    "number = 6\n",
    "\n",
    "if number > 0:\n",
    "    print('Positive')\n",
    "    print('Number')\n",
    "elif number < 0:\n",
    "    print('Negative number')\n",
    "else:\n",
    "    print('Number is zero')\n",
    "    \n",
    "print('outside of the if-body')"
   ]
  },
  {
   "attachments": {},
   "cell_type": "markdown",
   "metadata": {},
   "source": [
    "##### 1. WAP to read two numbers and a threshold from the user and print suitable message when:\n",
    "    1) sum of the numbers are greater than threshold value\n",
    "    2) sum of the numbers are NOT greater than threshold value\n",
    "\n",
    "##### 2. WAP to check if a number is even or odd.\n",
    "\n",
    "##### 3. WAP to assign grades to the student based on the scores obtained in the exam. The grades are allocated as follows:\n",
    "                Grade ‘A’ if scores between 90-100\n",
    "                Grade ‘B’ if scores between 80-89\n",
    "                Grade ‘C’ if score between 70-79\n",
    "                Grade ‘D’ if score between 60-69\n",
    "                Grade ‘E’ if score between 50-59\n",
    "                Otherwise, Grade ‘F’\n",
    "##### 4. Design a basic calculator program which takes minimum three inputs (2 operands and an operator) from the user to perform addition, subtraction, multiplication, division and modulo.\n"
   ]
  },
  {
   "cell_type": "code",
   "execution_count": 19,
   "metadata": {},
   "outputs": [
    {
     "name": "stdout",
     "output_type": "stream",
     "text": [
      "Enter first integer:5\n",
      "Enter first integer:6\n",
      "Enter a threshold value (integer):11\n",
      "Sum is equal to the threshold\n"
     ]
    }
   ],
   "source": [
    "# 1. WAP to read two numbers and a threshold from the user and print suitable message when:\n",
    "    # a) sum of the numbers are greater than threshold value\n",
    "    # b) sum of the numbers are NOT greater than threshold value\n",
    "    # c) sum is equal to the threshold\n",
    "\n",
    "num1 = int(input('Enter first integer:'))\n",
    "num2 = int(input('Enter first integer:'))\n",
    "threshold = int(input('Enter a threshold value (integer):'))\n",
    "\n",
    "if num1+num2 < threshold:\n",
    "    print('Sum is lesser than threshold')\n",
    "elif num1+num2 > threshold:\n",
    "    print('Sum is greater than threshold')\n",
    "else:\n",
    "    print('Sum is equal to the threshold')\n"
   ]
  },
  {
   "cell_type": "code",
   "execution_count": 20,
   "metadata": {},
   "outputs": [
    {
     "name": "stdout",
     "output_type": "stream",
     "text": [
      "Even\n"
     ]
    }
   ],
   "source": [
    "# 2. WAP to check if a number is even or odd.\n",
    "number = 2\n",
    "if number%2==0:\n",
    "    print('Even')\n",
    "else:\n",
    "    print('Odd')"
   ]
  },
  {
   "cell_type": "code",
   "execution_count": 22,
   "metadata": {},
   "outputs": [
    {
     "name": "stdout",
     "output_type": "stream",
     "text": [
      "Odd\n"
     ]
    }
   ],
   "source": [
    "number = 5\n",
    "if number%2!=0:\n",
    "    print('Odd')\n",
    "else:\n",
    "    print('Even')"
   ]
  },
  {
   "cell_type": "code",
   "execution_count": 23,
   "metadata": {},
   "outputs": [],
   "source": [
    "# 3. WAP to assign grades to the student based on the scores obtained in the exam. The grades are allocated as follows:\n",
    "#             Grade ‘A’ if scores between 90-100\n",
    "#             Grade ‘B’ if scores between 80-89\n",
    "#             Grade ‘C’ if score between 70-79\n",
    "#             Grade ‘D’ if score between 60-69\n",
    "#             Grade ‘E’ if score between 50-59\n",
    "#             Otherwise, Grade ‘F’"
   ]
  },
  {
   "cell_type": "code",
   "execution_count": 29,
   "metadata": {},
   "outputs": [
    {
     "name": "stdout",
     "output_type": "stream",
     "text": [
      "Enter your score (interger):67\n",
      "D\n"
     ]
    }
   ],
   "source": [
    "score = int(input('Enter your score (interger):'))\n",
    "\n",
    "if ((score >= 90) & (score <= 100)):\n",
    "    print('A')\n",
    "elif ((score >= 80) & (score <= 89)):\n",
    "    print('B')\n",
    "elif ((score >= 70) & (score <= 79)):\n",
    "    print('C')\n",
    "elif ((score >= 60) & (score <= 69)):\n",
    "    print('D')\n",
    "elif ((score >= 50) & (score <= 59)):\n",
    "    print('E')\n",
    "else:\n",
    "    print('F')\n",
    "    "
   ]
  },
  {
   "cell_type": "code",
   "execution_count": null,
   "metadata": {},
   "outputs": [],
   "source": [
    "#       4. Design a basic calculator program which takes \n",
    "    #   minimum three inputs (2 operands and an operator) \n",
    "    #   from the user to perform addition, subtraction, \n",
    "    #   multiplication, division and modulo."
   ]
  },
  {
   "cell_type": "code",
   "execution_count": 30,
   "metadata": {},
   "outputs": [
    {
     "name": "stdout",
     "output_type": "stream",
     "text": [
      "Enter first operand:5\n",
      "Enter second operand:6\n",
      "Enter the operator:+\n",
      "\n",
      "\n",
      "Addition of 5 and 6 = 11\n"
     ]
    }
   ],
   "source": [
    "n1 = int(input('Enter first operand:'))\n",
    "n2 = int(input('Enter second operand:'))\n",
    "op = input('Enter the operator:')\n",
    "print('\\n') # move the cursor to the next line\n",
    "if op=='+': # addition\n",
    "    print('Addition of {n1} and {n2} = {n3}'.format(n1=n1,n2=n2,n3 = n1+n2))\n",
    "elif op=='-': # subtraction\n",
    "    print('Subtraction of {n1} and {n2} = {n3}'.format(n1=n1,n2=n2,n3 = n1-n2))\n",
    "elif op=='*': # multiplication\n",
    "    print('Product of {n1} and {n2} = {n3}'.format(n1=n1,n2=n2,n3=n1*n2))\n",
    "elif op=='/': # division\n",
    "    if n2 != 0:\n",
    "        print('Division of {n1} and {n2} = {n3}'.format(n1=n1,n2=n2,n3=n1/n2))\n",
    "    else:\n",
    "        print('Error: divide by zero not supported!')\n",
    "elif op=='%': # modulo\n",
    "    print('Modulo of {n1} and {n2} = {n3}'.format(n1=n1,n2=n2,n3=n1%n2))\n",
    "else:\n",
    "    print('Error: Invalid inputs!!')\n"
   ]
  },
  {
   "cell_type": "markdown",
   "metadata": {},
   "source": [
    "## Loops"
   ]
  },
  {
   "cell_type": "code",
   "execution_count": null,
   "metadata": {},
   "outputs": [],
   "source": [
    "### syntax: while\n",
    "# < initialise a variable>\n",
    "#   # while <variable True>:\n",
    "#             < while body >\n",
    "#             <update your variable>\n",
    "            "
   ]
  },
  {
   "cell_type": "code",
   "execution_count": 34,
   "metadata": {},
   "outputs": [
    {
     "name": "stdout",
     "output_type": "stream",
     "text": [
      "Before while loop\n",
      "1\n",
      "2\n",
      "3\n",
      "4\n",
      "5\n",
      "6\n",
      "7\n",
      "8\n",
      "9\n",
      "10\n",
      "Outside while loop\n"
     ]
    }
   ],
   "source": [
    "### WAP to print 1 to 10\n",
    "print('Before while loop') # optional statement\n",
    "counter = 1 # initialisation\n",
    "while counter < 11:\n",
    "    print(counter)\n",
    "    counter += 1  # increament\n",
    "\n",
    "print('Outside while loop') # optional statement"
   ]
  },
  {
   "cell_type": "code",
   "execution_count": 37,
   "metadata": {},
   "outputs": [
    {
     "name": "stdout",
     "output_type": "stream",
     "text": [
      "10\n",
      "9\n",
      "8\n",
      "7\n",
      "6\n",
      "5\n",
      "4\n",
      "3\n",
      "2\n",
      "1\n"
     ]
    }
   ],
   "source": [
    "###  WAP to print integers from 10 to 1\n",
    "counter = 10 # initialisation\n",
    "while counter > 0:\n",
    "    print(counter)\n",
    "    counter -= 1  # decrement"
   ]
  },
  {
   "cell_type": "code",
   "execution_count": null,
   "metadata": {},
   "outputs": [],
   "source": [
    "## for loop\n",
    "# syntax: for <variable> in <vector>:\n",
    "#             <for body>"
   ]
  },
  {
   "cell_type": "code",
   "execution_count": 38,
   "metadata": {},
   "outputs": [
    {
     "name": "stdout",
     "output_type": "stream",
     "text": [
      "1\n",
      "2\n",
      "3\n",
      "4\n",
      "5\n",
      "6\n",
      "7\n",
      "8\n",
      "9\n",
      "10\n"
     ]
    }
   ],
   "source": [
    "# print integers 1 to 10 using for loop\n",
    "for x in [1,2,3,4,5,6,7,8,9,10]:\n",
    "    print(x)\n"
   ]
  },
  {
   "cell_type": "code",
   "execution_count": 40,
   "metadata": {},
   "outputs": [
    {
     "name": "stdout",
     "output_type": "stream",
     "text": [
      "1\n",
      "2\n",
      "3\n",
      "4\n",
      "5\n",
      "6\n",
      "7\n",
      "8\n",
      "9\n",
      "10\n"
     ]
    }
   ],
   "source": [
    "# print integers 1 to 10 using for loop\n",
    "for x in range(1,11):\n",
    "    print(x)"
   ]
  },
  {
   "cell_type": "code",
   "execution_count": 45,
   "metadata": {},
   "outputs": [
    {
     "name": "stdout",
     "output_type": "stream",
     "text": [
      "1\n",
      "4\n",
      "9\n",
      "16\n",
      "25\n",
      "36\n",
      "49\n",
      "64\n",
      "81\n",
      "100\n"
     ]
    }
   ],
   "source": [
    "### modify above program to print square of each number from 1 to 10.\n",
    "for x in range(1,11):\n",
    "    print(x*x)    "
   ]
  },
  {
   "cell_type": "code",
   "execution_count": 42,
   "metadata": {},
   "outputs": [
    {
     "name": "stdout",
     "output_type": "stream",
     "text": [
      "1\n",
      "4\n",
      "9\n",
      "16\n",
      "25\n",
      "36\n",
      "49\n",
      "64\n",
      "81\n",
      "100\n"
     ]
    }
   ],
   "source": [
    "for x in range(1,11):\n",
    "    print(x**2)"
   ]
  },
  {
   "cell_type": "code",
   "execution_count": 46,
   "metadata": {},
   "outputs": [
    {
     "name": "stdout",
     "output_type": "stream",
     "text": [
      "4\n",
      "16\n",
      "36\n",
      "64\n",
      "100\n"
     ]
    }
   ],
   "source": [
    "## WAP to print square of even integers from 1 to 10 using for loop.\n",
    "for i in range(1,11):\n",
    "    if i%2==0:\n",
    "        print(i**2)"
   ]
  },
  {
   "cell_type": "markdown",
   "metadata": {},
   "source": [
    "##### Print i as long as i is less than N; where N is taken from user. Note: i =1 initialially"
   ]
  },
  {
   "cell_type": "code",
   "execution_count": 50,
   "metadata": {},
   "outputs": [
    {
     "name": "stdout",
     "output_type": "stream",
     "text": [
      "Enter N value: 5\n",
      "The sequence is printed as follows:\n",
      "1\n",
      "2\n",
      "3\n",
      "4\n"
     ]
    }
   ],
   "source": [
    "n = int(input('Enter N value: '))\n",
    "print('The sequence is printed as follows:')\n",
    "for i in range(1,n):\n",
    "    print(i)"
   ]
  },
  {
   "cell_type": "code",
   "execution_count": null,
   "metadata": {},
   "outputs": [],
   "source": [
    "i = 1\n",
    "n = int(input('Enter N value: '))\n",
    "while i<n:\n",
    "    print(i)"
   ]
  },
  {
   "cell_type": "markdown",
   "metadata": {},
   "source": [
    "##### WAP to print integers 1 to 10. However, when integer is 5 skip printing."
   ]
  },
  {
   "cell_type": "code",
   "execution_count": 51,
   "metadata": {},
   "outputs": [
    {
     "name": "stdout",
     "output_type": "stream",
     "text": [
      "1\n",
      "2\n",
      "3\n",
      "4\n",
      "6\n",
      "7\n",
      "8\n",
      "9\n",
      "10\n"
     ]
    }
   ],
   "source": [
    "for i in range(1,11):\n",
    "    if i!=5:\n",
    "        print(i)"
   ]
  },
  {
   "cell_type": "code",
   "execution_count": 55,
   "metadata": {},
   "outputs": [
    {
     "name": "stdout",
     "output_type": "stream",
     "text": [
      "1\n",
      "2\n",
      "3\n",
      "4\n",
      "5\n",
      "6\n",
      "7\n",
      "8\n",
      "9\n",
      "10\n"
     ]
    }
   ],
   "source": [
    "for i in range(1,11):\n",
    "    print(i)\n",
    "    if i==5:\n",
    "        continue"
   ]
  },
  {
   "cell_type": "code",
   "execution_count": 56,
   "metadata": {},
   "outputs": [
    {
     "name": "stdout",
     "output_type": "stream",
     "text": [
      "1\n",
      "2\n",
      "3\n",
      "4\n",
      "6\n",
      "7\n",
      "8\n",
      "9\n",
      "10\n"
     ]
    }
   ],
   "source": [
    "for i in range(1,11):\n",
    "    if i==5:\n",
    "        continue\n",
    "    print(i)"
   ]
  },
  {
   "cell_type": "code",
   "execution_count": 53,
   "metadata": {},
   "outputs": [
    {
     "name": "stdout",
     "output_type": "stream",
     "text": [
      "1\n",
      "2\n",
      "3\n",
      "4\n"
     ]
    }
   ],
   "source": [
    "for i in range(1,11):\n",
    "    if i==5:\n",
    "        break\n",
    "    print(i)\n"
   ]
  },
  {
   "cell_type": "code",
   "execution_count": 54,
   "metadata": {},
   "outputs": [
    {
     "name": "stdout",
     "output_type": "stream",
     "text": [
      "1\n",
      "2\n",
      "3\n",
      "4\n",
      "2\n",
      "4\n",
      "6\n",
      "8\n",
      "3\n",
      "6\n",
      "9\n",
      "12\n"
     ]
    }
   ],
   "source": [
    "for i in range(1,4): #3*4*2 = 24\n",
    "    for j in range(1,5):\n",
    "        for k in range(3,5):\n",
    "            # line1\n",
    "            print(i*j*k)\n",
    "        # line2\n",
    "    # line3\n",
    "# 1 1 3\n",
    "# 1 1 4"
   ]
  }
 ],
 "metadata": {
  "kernelspec": {
   "display_name": "Python 3",
   "language": "python",
   "name": "python3"
  },
  "language_info": {
   "codemirror_mode": {
    "name": "ipython",
    "version": 3
   },
   "file_extension": ".py",
   "mimetype": "text/x-python",
   "name": "python",
   "nbconvert_exporter": "python",
   "pygments_lexer": "ipython3",
   "version": "3.7.5"
  }
 },
 "nbformat": 4,
 "nbformat_minor": 2
}
