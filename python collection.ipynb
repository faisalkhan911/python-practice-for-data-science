{
 "cells": [
  {
   "cell_type": "markdown",
   "metadata": {},
   "source": [
    "## Python collections\n",
    "    - list\n",
    "    - tuple \n",
    "    - dictionary\n",
    "    - set"
   ]
  },
  {
   "cell_type": "markdown",
   "metadata": {},
   "source": [
    "### List properties\n",
    " - ordered \n",
    " - indexed\n",
    " - duplicate members allowed\n"
   ]
  },
  {
   "cell_type": "code",
   "execution_count": 1,
   "metadata": {},
   "outputs": [
    {
     "name": "stdout",
     "output_type": "stream",
     "text": [
      "[1, 2, 3, 4, 5, 6] <class 'list'>\n",
      "[1, 2, 'hello', 'world', 1.2, 1.3] <class 'list'>\n"
     ]
    }
   ],
   "source": [
    "## syntax - [elements seperated by comma]\n",
    "# \n",
    "int_list = [1,2,3,4,5,6]\n",
    "mix_list = [1,2,'hello','world',1.2,1.3] \n",
    "print(int_list, type(int_list))\n",
    "print(mix_list, type(mix_list))"
   ]
  },
  {
   "cell_type": "code",
   "execution_count": 2,
   "metadata": {},
   "outputs": [
    {
     "data": {
      "text/plain": [
       "str"
      ]
     },
     "execution_count": 2,
     "metadata": {},
     "output_type": "execute_result"
    }
   ],
   "source": [
    "type(mix_list[2])"
   ]
  },
  {
   "cell_type": "code",
   "execution_count": 3,
   "metadata": {},
   "outputs": [
    {
     "data": {
      "text/plain": [
       "20"
      ]
     },
     "execution_count": 3,
     "metadata": {},
     "output_type": "execute_result"
    }
   ],
   "source": [
    "l = [1,2,3,[3,4,5],6,7,8,[[20]]]\n",
    "l[7][0][0]"
   ]
  },
  {
   "cell_type": "code",
   "execution_count": 4,
   "metadata": {},
   "outputs": [
    {
     "data": {
      "text/plain": [
       "[1, 1, 1, 2, 3, 4]"
      ]
     },
     "execution_count": 4,
     "metadata": {},
     "output_type": "execute_result"
    }
   ],
   "source": [
    "[1,1,1,2,3,4]"
   ]
  },
  {
   "cell_type": "code",
   "execution_count": 5,
   "metadata": {},
   "outputs": [
    {
     "name": "stdout",
     "output_type": "stream",
     "text": [
      "[1, 2, 3, 4, 5, 6, 7, 8, 9]\n"
     ]
    },
    {
     "data": {
      "text/plain": [
       "[1, 2, 3, 5]"
      ]
     },
     "execution_count": 5,
     "metadata": {},
     "output_type": "execute_result"
    }
   ],
   "source": [
    "# list generation using 'list' object\n",
    "print(list(range(1,10))) # using range function\n",
    "list((1,2,3,5))         # using tuple"
   ]
  },
  {
   "cell_type": "code",
   "execution_count": 6,
   "metadata": {},
   "outputs": [
    {
     "name": "stdout",
     "output_type": "stream",
     "text": [
      "2\n",
      "hello\n"
     ]
    }
   ],
   "source": [
    "### Accessing element by indexing\n",
    "mix_list = [1,2,'hello','world',1.2,1.3]\n",
    "print(mix_list[1])\n",
    "print(mix_list[2])"
   ]
  },
  {
   "cell_type": "code",
   "execution_count": 7,
   "metadata": {},
   "outputs": [
    {
     "name": "stdout",
     "output_type": "stream",
     "text": [
      "2\n",
      "hello\n"
     ]
    }
   ],
   "source": [
    "### negative indexing\n",
    "mix_list = [1,2,'hello','world',1.2,1.3]\n",
    "print(mix_list[-5])\n",
    "print(mix_list[-4])"
   ]
  },
  {
   "cell_type": "code",
   "execution_count": 8,
   "metadata": {},
   "outputs": [
    {
     "name": "stdout",
     "output_type": "stream",
     "text": [
      "['hello', 'world']\n",
      "['hello', 'world', 1.2, 1.3]\n",
      "[1, 2, 'hello', 'world']\n"
     ]
    }
   ],
   "source": [
    "### slicing [start:end]  # end is excluded\n",
    "mix_list = [1,2,'hello','world',1.2,1.3]\n",
    "print(mix_list[2:4])  # fetches hello world\n",
    "print(mix_list[2:])  #  end = len(object)\n",
    "print(mix_list[:4]) # start = 0"
   ]
  },
  {
   "cell_type": "code",
   "execution_count": 9,
   "metadata": {},
   "outputs": [
    {
     "name": "stdout",
     "output_type": "stream",
     "text": [
      "['hello', 'world']\n",
      "[1, 2, 'hello', 'world']\n",
      "['hello', 'world', 1.2, 1.3]\n"
     ]
    }
   ],
   "source": [
    "## negative slicing \n",
    "mix_list = [1,2,'hello','world',1.2,1.3]\n",
    "print(mix_list[-4:-2]) \n",
    "print(mix_list[:-2])\n",
    "print(mix_list[-4:])"
   ]
  },
  {
   "cell_type": "code",
   "execution_count": 10,
   "metadata": {},
   "outputs": [
    {
     "name": "stdout",
     "output_type": "stream",
     "text": [
      "[1, 2, 'hello', 'every one', 1.2, 1.3]\n",
      "[1, 2, 'hello', 3, 1.2, 1.3]\n",
      "[1, 2, 'hello', [1, 2, 4, 5], 1.2, 1.3]\n",
      "[1, 2, 'hello', 3.0, 1.2, 1.3]\n"
     ]
    }
   ],
   "source": [
    "## changing a member value in the list\n",
    "mix_list = [1,2,'hello','world',1.2,1.3]\n",
    "mix_list[3] = 'every one'\n",
    "print(mix_list)\n",
    "mix_list[3] = 3\n",
    "print(mix_list)\n",
    "mix_list[3] = [1,2,4,5]\n",
    "print(mix_list)\n",
    "mix_list[3] = 3.0\n",
    "print(mix_list)"
   ]
  },
  {
   "cell_type": "code",
   "execution_count": 11,
   "metadata": {},
   "outputs": [
    {
     "data": {
      "text/plain": [
       "[1, 2, 'hello', 'world', 1.2, 1.3]"
      ]
     },
     "execution_count": 11,
     "metadata": {},
     "output_type": "execute_result"
    }
   ],
   "source": [
    "### \n",
    "mix_list = [1,2,'hello','world',1.2,1.3]\n",
    "mix_list"
   ]
  },
  {
   "cell_type": "code",
   "execution_count": 12,
   "metadata": {},
   "outputs": [
    {
     "name": "stdout",
     "output_type": "stream",
     "text": [
      "[1, 2, 'hello', 'world', 1.2, 1.3, 5]\n",
      "[1, 2, 'hello', 'world', 1.2, 1.3, 5, 7]\n"
     ]
    }
   ],
   "source": [
    "mix_list.append(5)\n",
    "print(mix_list)\n",
    "mix_list.append(7)\n",
    "print(mix_list)"
   ]
  },
  {
   "cell_type": "code",
   "execution_count": 13,
   "metadata": {},
   "outputs": [],
   "source": [
    "# print(type(mix_list))"
   ]
  },
  {
   "cell_type": "code",
   "execution_count": 14,
   "metadata": {},
   "outputs": [
    {
     "name": "stdout",
     "output_type": "stream",
     "text": [
      "[1, 2, 'hello', 'world', 1.2, 1.3, 5, 7, 3, 5, 6, 7]\n"
     ]
    }
   ],
   "source": [
    "mix_list.extend([3,5,6,7])\n",
    "print(mix_list)"
   ]
  },
  {
   "cell_type": "code",
   "execution_count": 15,
   "metadata": {},
   "outputs": [
    {
     "name": "stdout",
     "output_type": "stream",
     "text": [
      "[1, 2, 'hello', 50, 'world', 1.2, 1.3, 5, 7, 3, 5, 6, 7]\n"
     ]
    }
   ],
   "source": [
    "mix_list.insert(3,50)\n",
    "print(mix_list)"
   ]
  },
  {
   "cell_type": "code",
   "execution_count": 16,
   "metadata": {},
   "outputs": [],
   "source": [
    "###\n",
    "mix_list.append([1,2,4,5])"
   ]
  },
  {
   "cell_type": "code",
   "execution_count": 17,
   "metadata": {},
   "outputs": [
    {
     "data": {
      "text/plain": [
       "[1, 2, 'hello', 50, 'world', 1.2, 1.3, 5, 7, 3, 5, 6, 7, [1, 2, 4, 5]]"
      ]
     },
     "execution_count": 17,
     "metadata": {},
     "output_type": "execute_result"
    }
   ],
   "source": [
    "mix_list"
   ]
  },
  {
   "cell_type": "code",
   "execution_count": 18,
   "metadata": {},
   "outputs": [
    {
     "data": {
      "text/plain": [
       "[1, 2, 'hello', 50, 'world', 1.2, 1.3, 5, 7, 3, 5, 6, 7, [1, 2, 4, 5]]"
      ]
     },
     "execution_count": 18,
     "metadata": {},
     "output_type": "execute_result"
    }
   ],
   "source": [
    "mix_list"
   ]
  },
  {
   "cell_type": "code",
   "execution_count": 19,
   "metadata": {},
   "outputs": [
    {
     "name": "stdout",
     "output_type": "stream",
     "text": [
      "[1, 2, 'hello', 50, 'world', 1.2, 1.3, 5, 7, 3, 5, 6, 7]\n"
     ]
    }
   ],
   "source": [
    "### remvoing a value from existing list\n",
    "mix_list.pop() # removing by index\n",
    "print(mix_list)"
   ]
  },
  {
   "cell_type": "code",
   "execution_count": 20,
   "metadata": {},
   "outputs": [
    {
     "name": "stdout",
     "output_type": "stream",
     "text": [
      "[1, 2, 50, 'world', 1.2, 1.3, 5, 7, 3, 5, 6, 7]\n"
     ]
    }
   ],
   "source": [
    "mix_list.pop(2) # removing by index\n",
    "print(mix_list)"
   ]
  },
  {
   "cell_type": "code",
   "execution_count": 21,
   "metadata": {},
   "outputs": [
    {
     "name": "stdout",
     "output_type": "stream",
     "text": [
      "[1, 50, 'world', 1.2, 1.3, 5, 7, 3, 5, 6, 7]\n"
     ]
    }
   ],
   "source": [
    "mix_list.remove(2)\n",
    "print(mix_list)"
   ]
  },
  {
   "cell_type": "code",
   "execution_count": 22,
   "metadata": {},
   "outputs": [
    {
     "name": "stdout",
     "output_type": "stream",
     "text": [
      "[1, 'world', 1.2, 1.3, 5, 7, 3, 5, 6, 7]\n"
     ]
    }
   ],
   "source": [
    "mix_list.remove(50)\n",
    "print(mix_list)"
   ]
  },
  {
   "cell_type": "code",
   "execution_count": 23,
   "metadata": {},
   "outputs": [
    {
     "name": "stdout",
     "output_type": "stream",
     "text": [
      "[7, 6, 5, 3, 7, 5, 1.3, 1.2, 'world', 1]\n"
     ]
    }
   ],
   "source": [
    "mix_list.reverse()\n",
    "print(mix_list)"
   ]
  },
  {
   "cell_type": "code",
   "execution_count": 24,
   "metadata": {},
   "outputs": [
    {
     "data": {
      "text/plain": [
       "[7, 6, 5, 3, 7, 5, 1.3, 1.2, 'world', 1]"
      ]
     },
     "execution_count": 24,
     "metadata": {},
     "output_type": "execute_result"
    }
   ],
   "source": [
    "mix_list"
   ]
  },
  {
   "cell_type": "code",
   "execution_count": 25,
   "metadata": {},
   "outputs": [],
   "source": [
    "## deleting \n",
    "del mix_list[-1] # "
   ]
  },
  {
   "cell_type": "code",
   "execution_count": 26,
   "metadata": {},
   "outputs": [
    {
     "data": {
      "text/plain": [
       "[7, 6, 5, 3, 7, 5, 1.3, 1.2, 'world']"
      ]
     },
     "execution_count": 26,
     "metadata": {},
     "output_type": "execute_result"
    }
   ],
   "source": [
    "mix_list"
   ]
  },
  {
   "cell_type": "code",
   "execution_count": 27,
   "metadata": {},
   "outputs": [
    {
     "data": {
      "text/plain": [
       "9"
      ]
     },
     "execution_count": 27,
     "metadata": {},
     "output_type": "execute_result"
    }
   ],
   "source": [
    "len(mix_list) # length of the list"
   ]
  },
  {
   "cell_type": "code",
   "execution_count": 28,
   "metadata": {},
   "outputs": [
    {
     "data": {
      "text/plain": [
       "2"
      ]
     },
     "execution_count": 28,
     "metadata": {},
     "output_type": "execute_result"
    }
   ],
   "source": [
    "mix_list.count(7) "
   ]
  },
  {
   "cell_type": "code",
   "execution_count": 29,
   "metadata": {},
   "outputs": [
    {
     "name": "stdout",
     "output_type": "stream",
     "text": [
      "7\n",
      "6\n",
      "5\n",
      "3\n",
      "7\n",
      "5\n",
      "1.3\n",
      "1.2\n",
      "world\n"
     ]
    }
   ],
   "source": [
    "### loop through the list\n",
    "for e in mix_list:\n",
    "    print(e)"
   ]
  },
  {
   "cell_type": "code",
   "execution_count": 30,
   "metadata": {},
   "outputs": [
    {
     "name": "stdout",
     "output_type": "stream",
     "text": [
      "-4.5\n",
      "-3.5\n",
      "-2.5\n",
      "-1.5\n",
      "-0.5\n",
      "0.5\n",
      "1.5\n",
      "2.5\n",
      "3.5\n",
      "4.5\n"
     ]
    }
   ],
   "source": [
    "## WAP to print difference of each element and average of the list \n",
    "## note: list consists of integers 1 to 10\n",
    "import numpy as np\n",
    "\n",
    "for each in range(1,11):\n",
    "    print(each - np.mean(range(1,11)))"
   ]
  },
  {
   "cell_type": "code",
   "execution_count": 31,
   "metadata": {},
   "outputs": [
    {
     "name": "stdout",
     "output_type": "stream",
     "text": [
      "True\n",
      "True\n",
      "False\n",
      "True\n"
     ]
    }
   ],
   "source": [
    "### check if an element exists in the given list\n",
    "print(7 in mix_list)\n",
    "print('world' in mix_list)\n",
    "print(7 not in mix_list)\n",
    "print(1.3 in mix_list)"
   ]
  },
  {
   "cell_type": "code",
   "execution_count": 32,
   "metadata": {},
   "outputs": [
    {
     "name": "stdout",
     "output_type": "stream",
     "text": [
      "[1, 2, 4, 2, 4, 5]\n",
      "[1, 2, 4, 1, 2, 4]\n"
     ]
    }
   ],
   "source": [
    "print([1,2,4] + [2,4,5]) # concating \n",
    "print([1,2,4]*2)"
   ]
  },
  {
   "cell_type": "code",
   "execution_count": 33,
   "metadata": {},
   "outputs": [
    {
     "data": {
      "text/plain": [
       "[1, 4, 9, 16, 25, 36, 49, 64, 81, 100]"
      ]
     },
     "execution_count": 33,
     "metadata": {},
     "output_type": "execute_result"
    }
   ],
   "source": [
    "## WAP to generate a square_list from a list of integers 1 to 10.\n",
    "square_list = []\n",
    "\n",
    "for each in range(1,11):\n",
    "    square_list.append(each**2)\n",
    "#     print(square_list)\n",
    "\n",
    "square_list"
   ]
  },
  {
   "cell_type": "code",
   "execution_count": 34,
   "metadata": {},
   "outputs": [
    {
     "name": "stdout",
     "output_type": "stream",
     "text": [
      "[1, 2, 3, 5]\n",
      "[1, 2, 3, 5]\n"
     ]
    }
   ],
   "source": [
    "## copying a list\n",
    "l1 = [1,2,3]\n",
    "l2 = l1 # copy by reference\n",
    "l2.append(5)\n",
    "print(l1)\n",
    "print(l2)"
   ]
  },
  {
   "cell_type": "code",
   "execution_count": 35,
   "metadata": {},
   "outputs": [
    {
     "name": "stdout",
     "output_type": "stream",
     "text": [
      "[1, 2, 3]\n",
      "[1, 2, 3, 5]\n"
     ]
    }
   ],
   "source": [
    "l1 = [1,2,3]\n",
    "l2 = l1.copy()  # using copy method # copy by value\n",
    "l2.append(5)\n",
    "print(l1)\n",
    "print(l2)"
   ]
  },
  {
   "cell_type": "markdown",
   "metadata": {},
   "source": [
    "### Tuple\n",
    "    - ordered \n",
    "    - indexing \n",
    "    - duplicate members allowed\n",
    "    - only read operations supported (immutable)"
   ]
  },
  {
   "cell_type": "code",
   "execution_count": 36,
   "metadata": {},
   "outputs": [
    {
     "name": "stdout",
     "output_type": "stream",
     "text": [
      "(1, 1, 2, 3, 4, 'hello', 'world', 1.2, 1.3, 1.4)\n",
      "<class 'tuple'>\n"
     ]
    }
   ],
   "source": [
    "## syntax\n",
    "mytupl = (1,1,2,3,4,'hello','world',1.2,1.3,1.4)\n",
    "print(mytupl)\n",
    "print(type(mytupl))"
   ]
  },
  {
   "cell_type": "code",
   "execution_count": 37,
   "metadata": {},
   "outputs": [
    {
     "data": {
      "text/plain": [
       "(1, 2, 3, 4, 5)"
      ]
     },
     "execution_count": 37,
     "metadata": {},
     "output_type": "execute_result"
    }
   ],
   "source": [
    "tuple([1,2,3,4,5])"
   ]
  },
  {
   "cell_type": "code",
   "execution_count": 38,
   "metadata": {},
   "outputs": [],
   "source": [
    "mytupl = (1,1,2,3,4,'hello','world',1.2,1.3,1.4, (10,20),[30,40,50])"
   ]
  },
  {
   "cell_type": "code",
   "execution_count": 39,
   "metadata": {},
   "outputs": [
    {
     "name": "stdout",
     "output_type": "stream",
     "text": [
      "hello\n",
      "world\n"
     ]
    }
   ],
   "source": [
    "print(mytupl[5]) # returns 'hello'\n",
    "print(mytupl[6]) # returns 'world'"
   ]
  },
  {
   "cell_type": "code",
   "execution_count": 40,
   "metadata": {},
   "outputs": [
    {
     "name": "stdout",
     "output_type": "stream",
     "text": [
      "20\n",
      "20\n",
      "20\n",
      "50\n",
      "50\n",
      "('hello', 'world')\n"
     ]
    }
   ],
   "source": [
    "print(mytupl[10][1])  # accessing 20\n",
    "print(mytupl[-2][1])   # accesing 20\n",
    "print(mytupl[-2][-1])   # accesing 20\n",
    "print(mytupl[-1][-1])    # accesing 50\n",
    "print(mytupl[-1][2])      # accesing 50\n",
    "print(mytupl[5:7])         # ('hello', 'world')"
   ]
  },
  {
   "cell_type": "code",
   "execution_count": 41,
   "metadata": {},
   "outputs": [
    {
     "name": "stdout",
     "output_type": "stream",
     "text": [
      "2\n",
      "1\n"
     ]
    }
   ],
   "source": [
    "print(mytupl.count(1))\n",
    "print(mytupl.count(2))"
   ]
  },
  {
   "cell_type": "code",
   "execution_count": 42,
   "metadata": {},
   "outputs": [],
   "source": [
    "from sys import getsizeof"
   ]
  },
  {
   "cell_type": "code",
   "execution_count": 43,
   "metadata": {},
   "outputs": [
    {
     "name": "stdout",
     "output_type": "stream",
     "text": [
      "96\n",
      "80\n"
     ]
    }
   ],
   "source": [
    "print(getsizeof([1,2,3]))\n",
    "print(getsizeof((1,2,3)))"
   ]
  },
  {
   "cell_type": "code",
   "execution_count": 44,
   "metadata": {},
   "outputs": [
    {
     "name": "stdout",
     "output_type": "stream",
     "text": [
      "12\n"
     ]
    }
   ],
   "source": [
    "mytupl = (1,1,2,3,4,'hello','world',1.2,1.3,1.4, (10,20),[30,40,50])\n",
    "print(len(mytupl))"
   ]
  }
 ],
 "metadata": {
  "kernelspec": {
   "display_name": "Python 3",
   "language": "python",
   "name": "python3"
  },
  "language_info": {
   "codemirror_mode": {
    "name": "ipython",
    "version": 3
   },
   "file_extension": ".py",
   "mimetype": "text/x-python",
   "name": "python",
   "nbconvert_exporter": "python",
   "pygments_lexer": "ipython3",
   "version": "3.7.5"
  }
 },
 "nbformat": 4,
 "nbformat_minor": 2
}
